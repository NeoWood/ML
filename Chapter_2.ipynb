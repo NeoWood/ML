{
 "cells": [
  {
   "cell_type": "markdown",
   "metadata": {
    "collapsed": true,
    "pycharm": {
     "name": "#%% md\n"
    }
   },
   "source": [
    "# 决策树判断鱼类和非鱼类\n",
    "\n",
    "---\n",
    "Author: Neo\n",
    "Date: 2022年2月3日\n",
    "---"
   ]
  },
  {
   "cell_type": "code",
   "execution_count": 3,
   "outputs": [],
   "source": [
    "import numpy as np\n",
    "import pandas as pd\n",
    "from math import log\n",
    "import operator"
   ],
   "metadata": {
    "collapsed": false,
    "pycharm": {
     "name": "#%%\n"
    }
   }
  },
  {
   "cell_type": "code",
   "execution_count": 6,
   "outputs": [],
   "source": [
    "def calcshannonent(dataset):\n",
    "    numentries = len(dataset)\n",
    "    labelcounts = {}\n",
    "    for featvec in dataset:\n",
    "        currentlabel = featvec[-1]\n",
    "        if currentlabel not in labelcounts.keys():\n",
    "            labelcounts[currentlabel] = 0\n",
    "        labelcounts[currentlabel] += 1\n",
    "    shannonent = 0.0\n",
    "    for key in labelcounts:\n",
    "        prob = float(labelcounts[key]) / numentries\n",
    "        shannonent -= prob * log(prob, 2)\n",
    "    return shannonent"
   ],
   "metadata": {
    "collapsed": false,
    "pycharm": {
     "name": "#%%\n"
    }
   }
  },
  {
   "cell_type": "code",
   "execution_count": 11,
   "outputs": [],
   "source": [
    "def majortycnt(classlist):\n",
    "    classcount = {}\n",
    "    for vote in classlist:\n",
    "        if vote not in classcount.keys():\n",
    "            classcount[vote] = 0\n",
    "        classcount[vote] += 1\n",
    "    sortedclasscount = sorted(classcount.items(), key=operator.itemgetter(1), reverse=True)\n",
    "    return sortedclasscount[0][0]"
   ],
   "metadata": {
    "collapsed": false,
    "pycharm": {
     "name": "#%%\n"
    }
   }
  },
  {
   "cell_type": "code",
   "execution_count": null,
   "outputs": [],
   "source": [
    "def splitdataset(dataset, index, value):\n",
    "    retdataset = []\n",
    "    for featvec in dataset:\n",
    "        if featvec[index] == value:\n",
    "            reducedfeatvec = featvec[:index]\n",
    "            reducedfeatvec.extend(featvec[index + 1:])\n",
    "            retdataset.append(reducedfeatvec)\n",
    "    return retdataset"
   ],
   "metadata": {
    "collapsed": false,
    "pycharm": {
     "name": "#%%\n"
    }
   }
  },
  {
   "cell_type": "code",
   "execution_count": 8,
   "outputs": [],
   "source": [
    "def choosebestfeaturetosplit(dataset):\n",
    "    numfeatures = len(dataset[0]) - 1\n",
    "    baseentropy = calcshannonent(dataset)\n",
    "    bestinfogain, bestfeature = 0.0, -1\n",
    "    for i in range(numfeatures):\n",
    "        featlist = [a[i] for a in dataset]\n",
    "        uniquevals = set(featlist)\n",
    "        newentropy = 0.0\n",
    "        for value in uniquevals:\n",
    "            subdataset ="
   ],
   "metadata": {
    "collapsed": false,
    "pycharm": {
     "name": "#%%\n"
    }
   }
  },
  {
   "cell_type": "code",
   "execution_count": 10,
   "outputs": [],
   "source": [
    "def createtree(dataset, labels):\n",
    "    classlist = [a[-1] for a in dataset]\n",
    "    if classlist.count(classlist[0]) == len(classlist):\n",
    "        return classlist[0]\n",
    "    if len(dataset[0]) == 1:\n",
    "        return majortycnt(classlist)"
   ],
   "metadata": {
    "collapsed": false,
    "pycharm": {
     "name": "#%%\n"
    }
   }
  }
 ],
 "metadata": {
  "kernelspec": {
   "display_name": "Python 3",
   "language": "python",
   "name": "python3"
  },
  "language_info": {
   "codemirror_mode": {
    "name": "ipython",
    "version": 2
   },
   "file_extension": ".py",
   "mimetype": "text/x-python",
   "name": "python",
   "nbconvert_exporter": "python",
   "pygments_lexer": "ipython2",
   "version": "2.7.6"
  }
 },
 "nbformat": 4,
 "nbformat_minor": 0
}