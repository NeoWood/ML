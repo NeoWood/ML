{
 "cells": [
  {
   "cell_type": "markdown",
   "metadata": {
    "collapsed": true,
    "pycharm": {
     "name": "#%% md\n"
    }
   },
   "source": [
    "# 决策树\n",
    "\n",
    "---\n",
    "\n",
    "## Author: Neo\n",
    "## Date: 2022年2月3日\n"
   ]
  },
  {
   "cell_type": "code",
   "execution_count": 3,
   "outputs": [],
   "source": [
    "from matplotlib.font_manager import FontProperties\n",
    "import matplotlib.pyplot as plt\n",
    "from math import log\n",
    "import operator\n",
    "import pickle   #序列化"
   ],
   "metadata": {
    "collapsed": false,
    "pycharm": {
     "name": "#%%\n"
    }
   }
  },
  {
   "cell_type": "code",
   "execution_count": null,
   "outputs": [],
   "source": [
    "#计算给定数据集的经验熵(香农熵)\n",
    "def calcShannonEnt(dataSet):\n",
    "\tnumEntires = len(dataSet)\t\t\t\t\t\t#返回数据集的行数\n",
    "\tlabelCounts = {}\t\t\t\t\t\t\t\t#保存每个标签(Label)出现次数的字典\n",
    "\tfor featVec in dataSet:\t\t\t\t\t\t\t#对每组特征向量进行统计\n",
    "\t\tcurrentLabel = featVec[-1]\t\t\t\t\t#提取标签(Label)信息\n",
    "\t\tif currentLabel not in labelCounts.keys():\t#如果标签(Label)没有放入统计次数的字典,添加进去\n",
    "\t\t\tlabelCounts[currentLabel] = 0\n",
    "\t\tlabelCounts[currentLabel] += 1\t\t\t\t#Label计数\n",
    "\tshannonEnt = 0.0\t\t\t\t\t\t\t\t#经验熵(香农熵)\n",
    "\tfor key in labelCounts:\t\t\t\t\t\t\t#计算香农熵\n",
    "\t\tprob = float(labelCounts[key]) / numEntires\t#选择该标签(Label)的概率\n",
    "\t\tshannonEnt -= prob * log(prob, 2)\t\t\t#利用公式计算\n",
    "\treturn shannonEnt\t\t\t\t\t\t\t\t#返回经验熵(香农熵)"
   ],
   "metadata": {
    "collapsed": false,
    "pycharm": {
     "name": "#%%\n"
    }
   }
  },
  {
   "cell_type": "code",
   "execution_count": null,
   "outputs": [],
   "source": [
    "#创建测试数据集\n",
    "def createDataSet():\n",
    "\tdataSet = [[0, 0, 0, 0, 'no'],\t\t\t\t\t\t#数据集\n",
    "\t\t\t[0, 0, 0, 1, 'no'],\n",
    "\t\t\t[0, 1, 0, 1, 'yes'],\n",
    "\t\t\t[0, 1, 1, 0, 'yes'],\n",
    "\t\t\t[0, 0, 0, 0, 'no'],\n",
    "\t\t\t[1, 0, 0, 0, 'no'],\n",
    "\t\t\t[1, 0, 0, 1, 'no'],\n",
    "\t\t\t[1, 1, 1, 1, 'yes'],\n",
    "\t\t\t[1, 0, 1, 2, 'yes'],\n",
    "\t\t\t[1, 0, 1, 2, 'yes'],\n",
    "\t\t\t[2, 0, 1, 2, 'yes'],\n",
    "\t\t\t[2, 0, 1, 1, 'yes'],\n",
    "\t\t\t[2, 1, 0, 1, 'yes'],\n",
    "\t\t\t[2, 1, 0, 2, 'yes'],\n",
    "\t\t\t[2, 0, 0, 0, 'no']]\n",
    "\tlabels = ['年龄', '有工作', '有自己的房子', '信贷情况']\t\t#特征标签\n",
    "\treturn dataSet, labels \t\t\t\t\t\t\t#返回数据集和分类属性"
   ],
   "metadata": {
    "collapsed": false,
    "pycharm": {
     "name": "#%%\n"
    }
   }
  },
  {
   "cell_type": "code",
   "execution_count": null,
   "outputs": [],
   "source": [
    "#按照给定特征划分数据集\n",
    "def splitDataSet(dataSet, axis, value):\n",
    "\tretDataSet = []\t\t\t\t\t\t\t\t\t\t#创建返回的数据集列表\n",
    "\tfor featVec in dataSet: \t\t\t\t\t\t\t#遍历数据集\n",
    "\t\tif featVec[axis] == value:\n",
    "\t\t\treducedFeatVec = featVec[:axis]\t\t\t\t#去掉axis特征\n",
    "\t\t\treducedFeatVec.extend(featVec[axis+1:]) \t#将符合条件的添加到返回的数据集\n",
    "\t\t\tretDataSet.append(reducedFeatVec)\n",
    "\treturn retDataSet\t\t  \t\t\t\t\t\t\t#返回划分后的数据集"
   ],
   "metadata": {
    "collapsed": false,
    "pycharm": {
     "name": "#%%\n"
    }
   }
  },
  {
   "cell_type": "code",
   "execution_count": null,
   "outputs": [],
   "source": [
    "#选择最优特征\n",
    "def chooseBestFeatureToSplit(dataSet):\n",
    "\tnumFeatures = len(dataSet[0]) - 1\t\t\t\t\t#特征数量\n",
    "\tbaseEntropy = calcShannonEnt(dataSet) \t\t\t\t#计算数据集的香农熵\n",
    "\tbestInfoGain = 0.0  \t\t\t\t\t\t\t\t#信息增益\n",
    "\tbestFeature = -1\t\t\t\t\t\t\t\t\t#最优特征的索引值\n",
    "\tfor i in range(numFeatures): \t\t\t\t\t\t#遍历所有特征\n",
    "\t\t#获取dataSet的第i个所有特征\n",
    "\t\tfeatList = [example[i] for example in dataSet]\n",
    "\t\tuniqueVals = set(featList)     \t\t\t\t\t#创建set集合{},元素不可重复\n",
    "\t\tnewEntropy = 0.0  \t\t\t\t\t\t\t\t#经验条件熵\n",
    "\t\tfor value in uniqueVals: \t\t\t\t\t\t#计算信息增益\n",
    "\t\t\tsubDataSet = splitDataSet(dataSet, i, value) \t\t#subDataSet划分后的子集\n",
    "\t\t\tprob = len(subDataSet) / float(len(dataSet))   \t\t#计算子集的概率\n",
    "\t\t\tnewEntropy += prob * calcShannonEnt(subDataSet) \t#根据公式计算经验条件熵\n",
    "\t\tinfoGain = baseEntropy - newEntropy \t\t\t\t\t#信息增益\n",
    "\t\t# print(\"第%d个特征的增益为%.3f\" % (i, infoGain))\t\t\t#打印每个特征的信息增益\n",
    "\t\tif infoGain > bestInfoGain: \t\t\t\t\t\t\t#计算信息增益\n",
    "\t\t\tbestInfoGain = infoGain \t\t\t\t\t\t\t#更新信息增益，找到最大的信息增益\n",
    "\t\t\tbestFeature = i \t\t\t\t\t\t\t\t\t#记录信息增益最大的特征的索引值\n",
    "\treturn bestFeature \t\t\t\t\t\t\t\t\t\t\t#返回信息增益最大的特征的索引值"
   ],
   "metadata": {
    "collapsed": false,
    "pycharm": {
     "name": "#%%\n"
    }
   }
  },
  {
   "cell_type": "code",
   "execution_count": null,
   "outputs": [],
   "source": [
    "#统计classList中出现此处最多的元素\n",
    "def majorityCnt(classList):\n",
    "\tclassCount = {}\n",
    "\tfor vote in classList:\t\t\t\t\t\t\t\t\t\t#统计classList中每个元素出现的次数\n",
    "\t\tif vote not in classCount.keys():classCount[vote] = 0\n",
    "\t\tclassCount[vote] += 1\n",
    "\tsortedClassCount = sorted(classCount.items(), key = operator.itemgetter(1), reverse = True)\t\t#根据字典的值降序排序\n",
    "\treturn sortedClassCount[0][0]\t\t\t\t\t\t\t\t#返回classList中出现次数最多的元素"
   ],
   "metadata": {
    "collapsed": false,
    "pycharm": {
     "name": "#%%\n"
    }
   }
  },
  {
   "cell_type": "code",
   "execution_count": null,
   "outputs": [],
   "source": [
    "#创建决策树\n",
    "def createTree(dataSet, labels, featLabels):\n",
    "\tclassList = [example[-1] for example in dataSet]\t\t\t#取分类标签(是否放贷:yes or no)\n",
    "\tif classList.count(classList[0]) == len(classList):\t\t\t#如果类别完全相同则停止继续划分\n",
    "\t\treturn classList[0]\n",
    "\tif len(dataSet[0]) == 1 or len(labels) == 0:\t\t\t\t\t\t\t\t\t#遍历完所有特征时返回出现次数最多的类标签\n",
    "\t\treturn majorityCnt(classList)\n",
    "\tbestFeat = chooseBestFeatureToSplit(dataSet)\t\t\t\t#选择最优特征\n",
    "\tbestFeatLabel = labels[bestFeat]\t\t\t\t\t\t\t#最优特征的标签\n",
    "\tfeatLabels.append(bestFeatLabel)\n",
    "\tmyTree = {bestFeatLabel:{}}\t\t\t\t\t\t\t\t\t#根据最优特征的标签生成树\n",
    "\tdel(labels[bestFeat])\t\t\t\t\t\t\t\t\t\t#删除已经使用特征标签\n",
    "\tfeatValues = [example[bestFeat] for example in dataSet]\t\t#得到训练集中所有最优特征的属性值\n",
    "\tuniqueVals = set(featValues)\t\t\t\t\t\t\t\t#去掉重复的属性值\n",
    "\tfor value in uniqueVals:\t\t\t\t\t\t\t\t\t#遍历特征，创建决策树。\n",
    "\t\tsubLabels = labels[:]\n",
    "\t\tmyTree[bestFeatLabel][value] = createTree(splitDataSet(dataSet, bestFeat, value), subLabels, featLabels)\n",
    "\n",
    "\treturn myTree"
   ],
   "metadata": {
    "collapsed": false,
    "pycharm": {
     "name": "#%%\n"
    }
   }
  },
  {
   "cell_type": "code",
   "execution_count": null,
   "outputs": [],
   "source": [
    "#获取决策树叶子结点的数目\n",
    "def getNumLeafs(myTree):\n",
    "    numLeafs = 0\t\t\t\t\t\t\t\t\t\t\t\t#初始化叶子\n",
    "    firstStr = next(iter(myTree))\t\t\t\t\t\t\t\t#python3中myTree.keys()返回的是dict_keys,不在是list,所以不能使用myTree.keys()[0]的方法获取结点属性，可以使用list(myTree.keys())[0]\n",
    "    secondDict = myTree[firstStr]\t\t\t\t\t\t\t\t#获取下一组字典\n",
    "    for key in secondDict.keys():\n",
    "        if type(secondDict[key]).__name__=='dict':\t\t\t\t#测试该结点是否为字典，如果不是字典，代表此结点为叶子结点\n",
    "            numLeafs += getNumLeafs(secondDict[key])\n",
    "        else:   numLeafs +=1\n",
    "    return numLeafs"
   ],
   "metadata": {
    "collapsed": false,
    "pycharm": {
     "name": "#%%\n"
    }
   }
  },
  {
   "cell_type": "code",
   "execution_count": null,
   "outputs": [],
   "source": [
    "#获取决策树的层数\n",
    "def getTreeDepth(myTree):\n",
    "    maxDepth = 0\t\t\t\t\t\t\t\t\t\t\t\t#初始化决策树深度\n",
    "    firstStr = next(iter(myTree))\t\t\t\t\t\t\t\t#python3中myTree.keys()返回的是dict_keys,不在是list,所以不能使用myTree.keys()[0]的方法获取结点属性，可以使用list(myTree.keys())[0]\n",
    "    secondDict = myTree[firstStr]\t\t\t\t\t\t\t\t#获取下一个字典\n",
    "    for key in secondDict.keys():\n",
    "        if type(secondDict[key]).__name__=='dict':\t\t\t\t#测试该结点是否为字典，如果不是字典，代表此结点为叶子结点\n",
    "            thisDepth = 1 + getTreeDepth(secondDict[key])\n",
    "        else:   thisDepth = 1\n",
    "        if thisDepth > maxDepth: maxDepth = thisDepth\t\t\t#更新层数\n",
    "    return maxDepth"
   ],
   "metadata": {
    "collapsed": false,
    "pycharm": {
     "name": "#%%\n"
    }
   }
  },
  {
   "cell_type": "code",
   "execution_count": null,
   "outputs": [],
   "source": [
    "#绘制结点\n"
   ],
   "metadata": {
    "collapsed": false,
    "pycharm": {
     "name": "#%%\n"
    }
   }
  }
 ],
 "metadata": {
  "kernelspec": {
   "display_name": "Python 3",
   "language": "python",
   "name": "python3"
  },
  "language_info": {
   "codemirror_mode": {
    "name": "ipython",
    "version": 2
   },
   "file_extension": ".py",
   "mimetype": "text/x-python",
   "name": "python",
   "nbconvert_exporter": "python",
   "pygments_lexer": "ipython2",
   "version": "2.7.6"
  }
 },
 "nbformat": 4,
 "nbformat_minor": 0
}