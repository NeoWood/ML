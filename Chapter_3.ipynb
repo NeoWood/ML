{
 "cells": [
  {
   "cell_type": "markdown",
   "metadata": {
    "collapsed": true,
    "pycharm": {
     "name": "#%% md\n"
    }
   },
   "source": [
    "# 神经网络\n",
    "***Author: Neo***\n",
    "\n",
    "***Date: 2022年3月17日***"
   ]
  },
  {
   "cell_type": "code",
   "execution_count": 9,
   "outputs": [],
   "source": [
    "import torch\n",
    "from torch import nn, optim\n",
    "from torch.autograd import Variable\n",
    "from torch.utils.data import DataLoader\n",
    "from torchvision import datasets, transforms\n",
    "from torchviz import make_dot"
   ],
   "metadata": {
    "collapsed": false,
    "pycharm": {
     "name": "#%%\n"
    }
   }
  },
  {
   "cell_type": "code",
   "execution_count": 10,
   "outputs": [],
   "source": [
    "class CNN(nn.Module):\n",
    "    def __init__(self):\n",
    "        super(CNN, self).__init__()\n",
    "        self.layer1 = nn.Sequential(\n",
    "            nn.Conv2d(1, 25, kernel_size=3),\n",
    "            nn.BatchNorm2d(25),\n",
    "            nn.ReLU(inplace=True)\n",
    "        )\n",
    "\n",
    "        self.layer2 = nn.Sequential(\n",
    "            nn.MaxPool2d(kernel_size=2, stride=2)\n",
    "        )\n",
    "\n",
    "        self.layer3 = nn.Sequential(\n",
    "            nn.Conv2d(25, 50, kernel_size=3),\n",
    "            nn.BatchNorm2d(50),\n",
    "            nn.ReLU(inplace=True)\n",
    "        )\n",
    "\n",
    "        self.layer4 = nn.Sequential(\n",
    "            nn.MaxPool2d(kernel_size=2, stride=2)\n",
    "        )\n",
    "\n",
    "        self.fc = nn.Sequential(\n",
    "            nn.Linear(50 * 5 * 5, 1024),\n",
    "            nn.ReLU(inplace=True),\n",
    "            nn.Linear(1024, 128),\n",
    "            nn.ReLU(inplace=True),\n",
    "            nn.Linear(128, 10)\n",
    "        )\n",
    "\n",
    "    def forward(self, x):\n",
    "        x = self.layer1(x)\n",
    "        x = self.layer2(x)\n",
    "        x = self.layer3(x)\n",
    "        x = self.layer4(x)\n",
    "        x = x.view(x.size(0), -1)\n",
    "        x = self.fc(x)\n",
    "        return x"
   ],
   "metadata": {
    "collapsed": false,
    "pycharm": {
     "name": "#%%\n"
    }
   }
  },
  {
   "cell_type": "code",
   "execution_count": 12,
   "outputs": [
    {
     "name": "stdout",
     "output_type": "stream",
     "text": [
      "GPU being used: NVIDIA GeForce GTX 1660 Ti\n",
      "epoch: 50, loss: 1.218\n",
      "epoch: 100, loss: 0.7465\n",
      "epoch: 150, loss: 0.2736\n",
      "epoch: 200, loss: 0.3094\n",
      "epoch: 250, loss: 0.245\n",
      "epoch: 300, loss: 0.1442\n",
      "epoch: 350, loss: 0.2229\n",
      "epoch: 400, loss: 0.1992\n",
      "epoch: 450, loss: 0.2431\n",
      "epoch: 500, loss: 0.142\n",
      "epoch: 550, loss: 0.06459\n",
      "epoch: 600, loss: 0.1641\n",
      "epoch: 650, loss: 0.1162\n",
      "epoch: 700, loss: 0.05381\n",
      "epoch: 750, loss: 0.03344\n",
      "epoch: 800, loss: 0.154\n",
      "epoch: 850, loss: 0.1666\n",
      "epoch: 900, loss: 0.01518\n",
      "Test Loss: 0.069124, Acc: 0.980400\n"
     ]
    }
   ],
   "source": [
    "batch_size = 64\n",
    "learning_rate = 0.02\n",
    "num_epoches = 20\n",
    "\n",
    "data_tf = transforms.Compose([transforms.ToTensor(),\n",
    "                              transforms.Normalize([0.5], [0.5])]\n",
    "                             )\n",
    "\n",
    "train_dataset = datasets.MNIST(root='./data/CNN', train=True, transform=data_tf, download=True)\n",
    "test_dataset = datasets.MNIST(root='./data/CNN', train=False, transform=data_tf)\n",
    "train_loader = DataLoader(train_dataset, batch_size=batch_size, shuffle=True)\n",
    "test_loader = DataLoader(test_dataset, batch_size=batch_size, shuffle=False)\n",
    "\n",
    "model = CNN()\n",
    "if torch.cuda.is_available():\n",
    "    print(\"GPU being used:\",torch.cuda.get_device_name(0))\n",
    "    model = model.cuda()\n",
    "\n",
    "criterion = nn.CrossEntropyLoss()\n",
    "optimizer = optim.SGD(model.parameters(), lr=learning_rate)\n",
    "\n",
    "epoch = 0\n",
    "for data in train_loader:\n",
    "    img, label = data\n",
    "    img = Variable(img)\n",
    "    if torch.cuda.is_available():\n",
    "        img = img.cuda()\n",
    "        label = label.cuda()\n",
    "    else:\n",
    "        img = Variable(img)\n",
    "        label = Variable(label)\n",
    "    out = model(img)\n",
    "    loss = criterion(out, label)\n",
    "    print_loss = loss.data.item()\n",
    "\n",
    "    optimizer.zero_grad()\n",
    "    loss.backward()\n",
    "    optimizer.step()\n",
    "    epoch+=1\n",
    "    if epoch%50 == 0:\n",
    "        print('epoch: {}, loss: {:.4}'.format(epoch, loss.data.item()))\n",
    "\n",
    "model.eval()\n",
    "eval_loss = 0\n",
    "eval_acc = 0\n",
    "for data in test_loader:\n",
    "    img, label = data\n",
    "    img = Variable(img)\n",
    "    if torch.cuda.is_available():\n",
    "        img = img.cuda()\n",
    "        label = label.cuda()\n",
    "\n",
    "    out = model(img)\n",
    "    loss = criterion(out, label)\n",
    "    eval_loss += loss.data.item()*label.size(0)\n",
    "    _, pred = torch.max(out, 1)\n",
    "    num_correct = (pred == label).sum()\n",
    "    eval_acc += num_correct.item()\n",
    "print('Test Loss: {:.6f}, Acc: {:.6f}'.format(\n",
    "    eval_loss / (len(test_dataset)),\n",
    "    eval_acc / (len(test_dataset))\n",
    "))"
   ],
   "metadata": {
    "collapsed": false,
    "pycharm": {
     "name": "#%%\n"
    }
   }
  },
  {
   "cell_type": "code",
   "execution_count": 13,
   "outputs": [
    {
     "data": {
      "image/svg+xml": "<?xml version=\"1.0\" encoding=\"UTF-8\" standalone=\"no\"?>\n<!DOCTYPE svg PUBLIC \"-//W3C//DTD SVG 1.1//EN\"\n \"http://www.w3.org/Graphics/SVG/1.1/DTD/svg11.dtd\">\n<!-- Generated by graphviz version 3.0.0 (20220226.1711)\n -->\n<!-- Pages: 1 -->\n<svg width=\"940pt\" height=\"983pt\"\n viewBox=\"0.00 0.00 940.01 983.00\" xmlns=\"http://www.w3.org/2000/svg\" xmlns:xlink=\"http://www.w3.org/1999/xlink\">\n<g id=\"graph0\" class=\"graph\" transform=\"scale(0.955296 0.955296) rotate(0) translate(4 1025)\">\n<polygon fill=\"white\" stroke=\"transparent\" points=\"-4,4 -4,-1025 980,-1025 980,4 -4,4\"/>\n<!-- 2404775849792 -->\n<g id=\"node1\" class=\"node\">\n<title>2404775849792</title>\n<polygon fill=\"#caff70\" stroke=\"black\" points=\"792,-31 727,-31 727,0 792,0 792,-31\"/>\n<text text-anchor=\"middle\" x=\"759.5\" y=\"-7\" font-family=\"monospace\" font-size=\"10.00\"> (1, 10)</text>\n</g>\n<!-- 2403128879520 -->\n<g id=\"node2\" class=\"node\">\n<title>2403128879520</title>\n<polygon fill=\"lightgrey\" stroke=\"black\" points=\"810,-86 709,-86 709,-67 810,-67 810,-86\"/>\n<text text-anchor=\"middle\" x=\"759.5\" y=\"-74\" font-family=\"monospace\" font-size=\"10.00\">AddmmBackward0</text>\n</g>\n<!-- 2403128879520&#45;&gt;2404775849792 -->\n<g id=\"edge45\" class=\"edge\">\n<title>2403128879520&#45;&gt;2404775849792</title>\n<path fill=\"none\" stroke=\"black\" d=\"M759.5,-66.79C759.5,-60.07 759.5,-50.4 759.5,-41.34\"/>\n<polygon fill=\"black\" stroke=\"black\" points=\"763,-41.19 759.5,-31.19 756,-41.19 763,-41.19\"/>\n</g>\n<!-- 2403128879664 -->\n<g id=\"node3\" class=\"node\">\n<title>2403128879664</title>\n<polygon fill=\"lightgrey\" stroke=\"black\" points=\"694,-141 593,-141 593,-122 694,-122 694,-141\"/>\n<text text-anchor=\"middle\" x=\"643.5\" y=\"-129\" font-family=\"monospace\" font-size=\"10.00\">AccumulateGrad</text>\n</g>\n<!-- 2403128879664&#45;&gt;2403128879520 -->\n<g id=\"edge1\" class=\"edge\">\n<title>2403128879664&#45;&gt;2403128879520</title>\n<path fill=\"none\" stroke=\"black\" d=\"M662.14,-121.98C680.8,-113.46 709.75,-100.23 731.24,-90.41\"/>\n<polygon fill=\"black\" stroke=\"black\" points=\"732.88,-93.51 740.52,-86.17 729.97,-87.14 732.88,-93.51\"/>\n</g>\n<!-- 2404775849232 -->\n<g id=\"node4\" class=\"node\">\n<title>2404775849232</title>\n<polygon fill=\"lightblue\" stroke=\"black\" points=\"679,-207 608,-207 608,-177 679,-177 679,-207\"/>\n<text text-anchor=\"middle\" x=\"643.5\" y=\"-195\" font-family=\"monospace\" font-size=\"10.00\">fc.4.bias</text>\n<text text-anchor=\"middle\" x=\"643.5\" y=\"-184\" font-family=\"monospace\" font-size=\"10.00\"> (10)</text>\n</g>\n<!-- 2404775849232&#45;&gt;2403128879664 -->\n<g id=\"edge2\" class=\"edge\">\n<title>2404775849232&#45;&gt;2403128879664</title>\n<path fill=\"none\" stroke=\"black\" d=\"M643.5,-176.84C643.5,-169.21 643.5,-159.7 643.5,-151.45\"/>\n<polygon fill=\"black\" stroke=\"black\" points=\"647,-151.27 643.5,-141.27 640,-151.27 647,-151.27\"/>\n</g>\n<!-- 2403128880000 -->\n<g id=\"node5\" class=\"node\">\n<title>2403128880000</title>\n<polygon fill=\"lightgrey\" stroke=\"black\" points=\"807,-141 712,-141 712,-122 807,-122 807,-141\"/>\n<text text-anchor=\"middle\" x=\"759.5\" y=\"-129\" font-family=\"monospace\" font-size=\"10.00\">ReluBackward0</text>\n</g>\n<!-- 2403128880000&#45;&gt;2403128879520 -->\n<g id=\"edge3\" class=\"edge\">\n<title>2403128880000&#45;&gt;2403128879520</title>\n<path fill=\"none\" stroke=\"black\" d=\"M759.5,-121.75C759.5,-114.8 759.5,-104.85 759.5,-96.13\"/>\n<polygon fill=\"black\" stroke=\"black\" points=\"763,-96.09 759.5,-86.09 756,-96.09 763,-96.09\"/>\n</g>\n<!-- 2403128878272 -->\n<g id=\"node6\" class=\"node\">\n<title>2403128878272</title>\n<polygon fill=\"lightgrey\" stroke=\"black\" points=\"804,-201.5 703,-201.5 703,-182.5 804,-182.5 804,-201.5\"/>\n<text text-anchor=\"middle\" x=\"753.5\" y=\"-189.5\" font-family=\"monospace\" font-size=\"10.00\">AddmmBackward0</text>\n</g>\n<!-- 2403128878272&#45;&gt;2403128880000 -->\n<g id=\"edge4\" class=\"edge\">\n<title>2403128878272&#45;&gt;2403128880000</title>\n<path fill=\"none\" stroke=\"black\" d=\"M754.39,-182.37C755.22,-174.25 756.49,-161.81 757.56,-151.39\"/>\n<polygon fill=\"black\" stroke=\"black\" points=\"761.07,-151.47 758.61,-141.17 754.11,-150.76 761.07,-151.47\"/>\n</g>\n<!-- 2403128880528 -->\n<g id=\"node7\" class=\"node\">\n<title>2403128880528</title>\n<polygon fill=\"lightgrey\" stroke=\"black\" points=\"667,-267.5 566,-267.5 566,-248.5 667,-248.5 667,-267.5\"/>\n<text text-anchor=\"middle\" x=\"616.5\" y=\"-255.5\" font-family=\"monospace\" font-size=\"10.00\">AccumulateGrad</text>\n</g>\n<!-- 2403128880528&#45;&gt;2403128878272 -->\n<g id=\"edge5\" class=\"edge\">\n<title>2403128880528&#45;&gt;2403128878272</title>\n<path fill=\"none\" stroke=\"black\" d=\"M634.98,-248.37C658.26,-237.49 698.51,-218.69 725.56,-206.05\"/>\n<polygon fill=\"black\" stroke=\"black\" points=\"727.3,-209.1 734.88,-201.7 724.34,-202.76 727.3,-209.1\"/>\n</g>\n<!-- 2404775846112 -->\n<g id=\"node8\" class=\"node\">\n<title>2404775846112</title>\n<polygon fill=\"lightblue\" stroke=\"black\" points=\"652,-339 581,-339 581,-309 652,-309 652,-339\"/>\n<text text-anchor=\"middle\" x=\"616.5\" y=\"-327\" font-family=\"monospace\" font-size=\"10.00\">fc.2.bias</text>\n<text text-anchor=\"middle\" x=\"616.5\" y=\"-316\" font-family=\"monospace\" font-size=\"10.00\"> (128)</text>\n</g>\n<!-- 2404775846112&#45;&gt;2403128880528 -->\n<g id=\"edge6\" class=\"edge\">\n<title>2404775846112&#45;&gt;2403128880528</title>\n<path fill=\"none\" stroke=\"black\" d=\"M616.5,-308.8C616.5,-299.7 616.5,-287.79 616.5,-277.9\"/>\n<polygon fill=\"black\" stroke=\"black\" points=\"620,-277.84 616.5,-267.84 613,-277.84 620,-277.84\"/>\n</g>\n<!-- 2403128877744 -->\n<g id=\"node9\" class=\"node\">\n<title>2403128877744</title>\n<polygon fill=\"lightgrey\" stroke=\"black\" points=\"780,-267.5 685,-267.5 685,-248.5 780,-248.5 780,-267.5\"/>\n<text text-anchor=\"middle\" x=\"732.5\" y=\"-255.5\" font-family=\"monospace\" font-size=\"10.00\">ReluBackward0</text>\n</g>\n<!-- 2403128877744&#45;&gt;2403128878272 -->\n<g id=\"edge7\" class=\"edge\">\n<title>2403128877744&#45;&gt;2403128878272</title>\n<path fill=\"none\" stroke=\"black\" d=\"M735.33,-248.37C738.41,-238.97 743.44,-223.67 747.42,-211.53\"/>\n<polygon fill=\"black\" stroke=\"black\" points=\"750.79,-212.5 750.58,-201.91 744.13,-210.32 750.79,-212.5\"/>\n</g>\n<!-- 2403128880336 -->\n<g id=\"node10\" class=\"node\">\n<title>2403128880336</title>\n<polygon fill=\"lightgrey\" stroke=\"black\" points=\"777,-333.5 676,-333.5 676,-314.5 777,-314.5 777,-333.5\"/>\n<text text-anchor=\"middle\" x=\"726.5\" y=\"-321.5\" font-family=\"monospace\" font-size=\"10.00\">AddmmBackward0</text>\n</g>\n<!-- 2403128880336&#45;&gt;2403128877744 -->\n<g id=\"edge8\" class=\"edge\">\n<title>2403128880336&#45;&gt;2403128877744</title>\n<path fill=\"none\" stroke=\"black\" d=\"M727.31,-314.37C728.18,-305.07 729.6,-289.98 730.73,-277.9\"/>\n<polygon fill=\"black\" stroke=\"black\" points=\"734.22,-278.19 731.67,-267.91 727.25,-277.53 734.22,-278.19\"/>\n</g>\n<!-- 2404784391744 -->\n<g id=\"node11\" class=\"node\">\n<title>2404784391744</title>\n<polygon fill=\"lightgrey\" stroke=\"black\" points=\"623,-399.5 522,-399.5 522,-380.5 623,-380.5 623,-399.5\"/>\n<text text-anchor=\"middle\" x=\"572.5\" y=\"-387.5\" font-family=\"monospace\" font-size=\"10.00\">AccumulateGrad</text>\n</g>\n<!-- 2404784391744&#45;&gt;2403128880336 -->\n<g id=\"edge9\" class=\"edge\">\n<title>2404784391744&#45;&gt;2403128880336</title>\n<path fill=\"none\" stroke=\"black\" d=\"M593.27,-380.37C619.79,-369.35 665.88,-350.19 696.29,-337.55\"/>\n<polygon fill=\"black\" stroke=\"black\" points=\"697.68,-340.77 705.57,-333.7 694.99,-334.3 697.68,-340.77\"/>\n</g>\n<!-- 2404775845952 -->\n<g id=\"node12\" class=\"node\">\n<title>2404775845952</title>\n<polygon fill=\"lightblue\" stroke=\"black\" points=\"592,-471 521,-471 521,-441 592,-441 592,-471\"/>\n<text text-anchor=\"middle\" x=\"556.5\" y=\"-459\" font-family=\"monospace\" font-size=\"10.00\">fc.0.bias</text>\n<text text-anchor=\"middle\" x=\"556.5\" y=\"-448\" font-family=\"monospace\" font-size=\"10.00\"> (1024)</text>\n</g>\n<!-- 2404775845952&#45;&gt;2404784391744 -->\n<g id=\"edge10\" class=\"edge\">\n<title>2404775845952&#45;&gt;2404784391744</title>\n<path fill=\"none\" stroke=\"black\" d=\"M560.05,-440.8C562.35,-431.6 565.37,-419.53 567.86,-409.58\"/>\n<polygon fill=\"black\" stroke=\"black\" points=\"571.26,-410.39 570.29,-399.84 564.47,-408.7 571.26,-410.39\"/>\n</g>\n<!-- 2404784391888 -->\n<g id=\"node13\" class=\"node\">\n<title>2404784391888</title>\n<polygon fill=\"lightgrey\" stroke=\"black\" points=\"753,-399.5 658,-399.5 658,-380.5 753,-380.5 753,-399.5\"/>\n<text text-anchor=\"middle\" x=\"705.5\" y=\"-387.5\" font-family=\"monospace\" font-size=\"10.00\">ViewBackward0</text>\n</g>\n<!-- 2404784391888&#45;&gt;2403128880336 -->\n<g id=\"edge11\" class=\"edge\">\n<title>2404784391888&#45;&gt;2403128880336</title>\n<path fill=\"none\" stroke=\"black\" d=\"M708.33,-380.37C711.41,-370.97 716.44,-355.67 720.42,-343.53\"/>\n<polygon fill=\"black\" stroke=\"black\" points=\"723.79,-344.5 723.58,-333.91 717.13,-342.32 723.79,-344.5\"/>\n</g>\n<!-- 2404784392848 -->\n<g id=\"node14\" class=\"node\">\n<title>2404784392848</title>\n<polygon fill=\"lightgrey\" stroke=\"black\" points=\"801,-465.5 610,-465.5 610,-446.5 801,-446.5 801,-465.5\"/>\n<text text-anchor=\"middle\" x=\"705.5\" y=\"-453.5\" font-family=\"monospace\" font-size=\"10.00\">MaxPool2DWithIndicesBackward0</text>\n</g>\n<!-- 2404784392848&#45;&gt;2404784391888 -->\n<g id=\"edge12\" class=\"edge\">\n<title>2404784392848&#45;&gt;2404784391888</title>\n<path fill=\"none\" stroke=\"black\" d=\"M705.5,-446.37C705.5,-437.16 705.5,-422.29 705.5,-410.27\"/>\n<polygon fill=\"black\" stroke=\"black\" points=\"709,-409.91 705.5,-399.91 702,-409.91 709,-409.91\"/>\n</g>\n<!-- 2404784393760 -->\n<g id=\"node15\" class=\"node\">\n<title>2404784393760</title>\n<polygon fill=\"lightgrey\" stroke=\"black\" points=\"753,-531.5 658,-531.5 658,-512.5 753,-512.5 753,-531.5\"/>\n<text text-anchor=\"middle\" x=\"705.5\" y=\"-519.5\" font-family=\"monospace\" font-size=\"10.00\">ReluBackward0</text>\n</g>\n<!-- 2404784393760&#45;&gt;2404784392848 -->\n<g id=\"edge13\" class=\"edge\">\n<title>2404784393760&#45;&gt;2404784392848</title>\n<path fill=\"none\" stroke=\"black\" d=\"M705.5,-512.37C705.5,-503.16 705.5,-488.29 705.5,-476.27\"/>\n<polygon fill=\"black\" stroke=\"black\" points=\"709,-475.91 705.5,-465.91 702,-475.91 709,-475.91\"/>\n</g>\n<!-- 2404784393568 -->\n<g id=\"node16\" class=\"node\">\n<title>2404784393568</title>\n<polygon fill=\"lightgrey\" stroke=\"black\" points=\"786,-592 625,-592 625,-573 786,-573 786,-592\"/>\n<text text-anchor=\"middle\" x=\"705.5\" y=\"-580\" font-family=\"monospace\" font-size=\"10.00\">NativeBatchNormBackward0</text>\n</g>\n<!-- 2404784393568&#45;&gt;2404784393760 -->\n<g id=\"edge14\" class=\"edge\">\n<title>2404784393568&#45;&gt;2404784393760</title>\n<path fill=\"none\" stroke=\"black\" d=\"M705.5,-572.87C705.5,-564.75 705.5,-552.31 705.5,-541.89\"/>\n<polygon fill=\"black\" stroke=\"black\" points=\"709,-541.67 705.5,-531.67 702,-541.67 709,-541.67\"/>\n</g>\n<!-- 2404784393952 -->\n<g id=\"node17\" class=\"node\">\n<title>2404784393952</title>\n<polygon fill=\"lightgrey\" stroke=\"black\" points=\"584,-647 453,-647 453,-628 584,-628 584,-647\"/>\n<text text-anchor=\"middle\" x=\"518.5\" y=\"-635\" font-family=\"monospace\" font-size=\"10.00\">ThnnConv2DBackward0</text>\n</g>\n<!-- 2404784393952&#45;&gt;2404784393568 -->\n<g id=\"edge15\" class=\"edge\">\n<title>2404784393952&#45;&gt;2404784393568</title>\n<path fill=\"none\" stroke=\"black\" d=\"M548.54,-627.98C580.21,-619.01 630.27,-604.82 665.31,-594.89\"/>\n<polygon fill=\"black\" stroke=\"black\" points=\"666.55,-598.18 675.22,-592.08 664.64,-591.44 666.55,-598.18\"/>\n</g>\n<!-- 2404784393184 -->\n<g id=\"node18\" class=\"node\">\n<title>2404784393184</title>\n<polygon fill=\"lightgrey\" stroke=\"black\" points=\"396,-707.5 205,-707.5 205,-688.5 396,-688.5 396,-707.5\"/>\n<text text-anchor=\"middle\" x=\"300.5\" y=\"-695.5\" font-family=\"monospace\" font-size=\"10.00\">MaxPool2DWithIndicesBackward0</text>\n</g>\n<!-- 2404784393184&#45;&gt;2404784393952 -->\n<g id=\"edge16\" class=\"edge\">\n<title>2404784393184&#45;&gt;2404784393952</title>\n<path fill=\"none\" stroke=\"black\" d=\"M332.2,-688.49C370.46,-678.23 434.91,-660.93 477.08,-649.62\"/>\n<polygon fill=\"black\" stroke=\"black\" points=\"478.01,-652.99 486.76,-647.02 476.2,-646.23 478.01,-652.99\"/>\n</g>\n<!-- 2404784392896 -->\n<g id=\"node19\" class=\"node\">\n<title>2404784392896</title>\n<polygon fill=\"lightgrey\" stroke=\"black\" points=\"348,-773.5 253,-773.5 253,-754.5 348,-754.5 348,-773.5\"/>\n<text text-anchor=\"middle\" x=\"300.5\" y=\"-761.5\" font-family=\"monospace\" font-size=\"10.00\">ReluBackward0</text>\n</g>\n<!-- 2404784392896&#45;&gt;2404784393184 -->\n<g id=\"edge17\" class=\"edge\">\n<title>2404784392896&#45;&gt;2404784393184</title>\n<path fill=\"none\" stroke=\"black\" d=\"M300.5,-754.37C300.5,-745.16 300.5,-730.29 300.5,-718.27\"/>\n<polygon fill=\"black\" stroke=\"black\" points=\"304,-717.91 300.5,-707.91 297,-717.91 304,-717.91\"/>\n</g>\n<!-- 2404784392512 -->\n<g id=\"node20\" class=\"node\">\n<title>2404784392512</title>\n<polygon fill=\"lightgrey\" stroke=\"black\" points=\"381,-834 220,-834 220,-815 381,-815 381,-834\"/>\n<text text-anchor=\"middle\" x=\"300.5\" y=\"-822\" font-family=\"monospace\" font-size=\"10.00\">NativeBatchNormBackward0</text>\n</g>\n<!-- 2404784392512&#45;&gt;2404784392896 -->\n<g id=\"edge18\" class=\"edge\">\n<title>2404784392512&#45;&gt;2404784392896</title>\n<path fill=\"none\" stroke=\"black\" d=\"M300.5,-814.87C300.5,-806.75 300.5,-794.31 300.5,-783.89\"/>\n<polygon fill=\"black\" stroke=\"black\" points=\"304,-783.67 300.5,-773.67 297,-783.67 304,-783.67\"/>\n</g>\n<!-- 2404784392992 -->\n<g id=\"node21\" class=\"node\">\n<title>2404784392992</title>\n<polygon fill=\"lightgrey\" stroke=\"black\" points=\"232,-889 101,-889 101,-870 232,-870 232,-889\"/>\n<text text-anchor=\"middle\" x=\"166.5\" y=\"-877\" font-family=\"monospace\" font-size=\"10.00\">ThnnConv2DBackward0</text>\n</g>\n<!-- 2404784392992&#45;&gt;2404784392512 -->\n<g id=\"edge19\" class=\"edge\">\n<title>2404784392992&#45;&gt;2404784392512</title>\n<path fill=\"none\" stroke=\"black\" d=\"M188.03,-869.98C209.97,-861.3 244.24,-847.75 269.19,-837.88\"/>\n<polygon fill=\"black\" stroke=\"black\" points=\"270.57,-841.1 278.58,-834.17 267.99,-834.59 270.57,-841.1\"/>\n</g>\n<!-- 2404784392752 -->\n<g id=\"node22\" class=\"node\">\n<title>2404784392752</title>\n<polygon fill=\"lightgrey\" stroke=\"black\" points=\"104,-949.5 3,-949.5 3,-930.5 104,-930.5 104,-949.5\"/>\n<text text-anchor=\"middle\" x=\"53.5\" y=\"-937.5\" font-family=\"monospace\" font-size=\"10.00\">AccumulateGrad</text>\n</g>\n<!-- 2404784392752&#45;&gt;2404784392992 -->\n<g id=\"edge20\" class=\"edge\">\n<title>2404784392752&#45;&gt;2404784392992</title>\n<path fill=\"none\" stroke=\"black\" d=\"M70.17,-930.37C88.78,-920.73 119.12,-905.03 140.78,-893.81\"/>\n<polygon fill=\"black\" stroke=\"black\" points=\"142.49,-896.87 149.76,-889.17 139.27,-890.66 142.49,-896.87\"/>\n</g>\n<!-- 2404784308768 -->\n<g id=\"node23\" class=\"node\">\n<title>2404784308768</title>\n<polygon fill=\"lightblue\" stroke=\"black\" points=\"107,-1021 0,-1021 0,-991 107,-991 107,-1021\"/>\n<text text-anchor=\"middle\" x=\"53.5\" y=\"-1009\" font-family=\"monospace\" font-size=\"10.00\">layer1.0.weight</text>\n<text text-anchor=\"middle\" x=\"53.5\" y=\"-998\" font-family=\"monospace\" font-size=\"10.00\"> (25, 1, 3, 3)</text>\n</g>\n<!-- 2404784308768&#45;&gt;2404784392752 -->\n<g id=\"edge21\" class=\"edge\">\n<title>2404784308768&#45;&gt;2404784392752</title>\n<path fill=\"none\" stroke=\"black\" d=\"M53.5,-990.8C53.5,-981.7 53.5,-969.79 53.5,-959.9\"/>\n<polygon fill=\"black\" stroke=\"black\" points=\"57,-959.84 53.5,-949.84 50,-959.84 57,-959.84\"/>\n</g>\n<!-- 2404784392224 -->\n<g id=\"node24\" class=\"node\">\n<title>2404784392224</title>\n<polygon fill=\"lightgrey\" stroke=\"black\" points=\"223,-949.5 122,-949.5 122,-930.5 223,-930.5 223,-949.5\"/>\n<text text-anchor=\"middle\" x=\"172.5\" y=\"-937.5\" font-family=\"monospace\" font-size=\"10.00\">AccumulateGrad</text>\n</g>\n<!-- 2404784392224&#45;&gt;2404784392992 -->\n<g id=\"edge22\" class=\"edge\">\n<title>2404784392224&#45;&gt;2404784392992</title>\n<path fill=\"none\" stroke=\"black\" d=\"M171.61,-930.37C170.78,-922.25 169.51,-909.81 168.44,-899.39\"/>\n<polygon fill=\"black\" stroke=\"black\" points=\"171.89,-898.76 167.39,-889.17 164.93,-899.47 171.89,-898.76\"/>\n</g>\n<!-- 2404784312128 -->\n<g id=\"node25\" class=\"node\">\n<title>2404784312128</title>\n<polygon fill=\"lightblue\" stroke=\"black\" points=\"220,-1021 125,-1021 125,-991 220,-991 220,-1021\"/>\n<text text-anchor=\"middle\" x=\"172.5\" y=\"-1009\" font-family=\"monospace\" font-size=\"10.00\">layer1.0.bias</text>\n<text text-anchor=\"middle\" x=\"172.5\" y=\"-998\" font-family=\"monospace\" font-size=\"10.00\"> (25)</text>\n</g>\n<!-- 2404784312128&#45;&gt;2404784392224 -->\n<g id=\"edge23\" class=\"edge\">\n<title>2404784312128&#45;&gt;2404784392224</title>\n<path fill=\"none\" stroke=\"black\" d=\"M172.5,-990.8C172.5,-981.7 172.5,-969.79 172.5,-959.9\"/>\n<polygon fill=\"black\" stroke=\"black\" points=\"176,-959.84 172.5,-949.84 169,-959.84 176,-959.84\"/>\n</g>\n<!-- 2404784392560 -->\n<g id=\"node26\" class=\"node\">\n<title>2404784392560</title>\n<polygon fill=\"lightgrey\" stroke=\"black\" points=\"351,-889 250,-889 250,-870 351,-870 351,-889\"/>\n<text text-anchor=\"middle\" x=\"300.5\" y=\"-877\" font-family=\"monospace\" font-size=\"10.00\">AccumulateGrad</text>\n</g>\n<!-- 2404784392560&#45;&gt;2404784392512 -->\n<g id=\"edge24\" class=\"edge\">\n<title>2404784392560&#45;&gt;2404784392512</title>\n<path fill=\"none\" stroke=\"black\" d=\"M300.5,-869.75C300.5,-862.8 300.5,-852.85 300.5,-844.13\"/>\n<polygon fill=\"black\" stroke=\"black\" points=\"304,-844.09 300.5,-834.09 297,-844.09 304,-844.09\"/>\n</g>\n<!-- 2404784309328 -->\n<g id=\"node27\" class=\"node\">\n<title>2404784309328</title>\n<polygon fill=\"lightblue\" stroke=\"black\" points=\"354,-955 247,-955 247,-925 354,-925 354,-955\"/>\n<text text-anchor=\"middle\" x=\"300.5\" y=\"-943\" font-family=\"monospace\" font-size=\"10.00\">layer1.1.weight</text>\n<text text-anchor=\"middle\" x=\"300.5\" y=\"-932\" font-family=\"monospace\" font-size=\"10.00\"> (25)</text>\n</g>\n<!-- 2404784309328&#45;&gt;2404784392560 -->\n<g id=\"edge25\" class=\"edge\">\n<title>2404784309328&#45;&gt;2404784392560</title>\n<path fill=\"none\" stroke=\"black\" d=\"M300.5,-924.84C300.5,-917.21 300.5,-907.7 300.5,-899.45\"/>\n<polygon fill=\"black\" stroke=\"black\" points=\"304,-899.27 300.5,-889.27 297,-899.27 304,-899.27\"/>\n</g>\n<!-- 2404784393040 -->\n<g id=\"node28\" class=\"node\">\n<title>2404784393040</title>\n<polygon fill=\"lightgrey\" stroke=\"black\" points=\"470,-889 369,-889 369,-870 470,-870 470,-889\"/>\n<text text-anchor=\"middle\" x=\"419.5\" y=\"-877\" font-family=\"monospace\" font-size=\"10.00\">AccumulateGrad</text>\n</g>\n<!-- 2404784393040&#45;&gt;2404784392512 -->\n<g id=\"edge26\" class=\"edge\">\n<title>2404784393040&#45;&gt;2404784392512</title>\n<path fill=\"none\" stroke=\"black\" d=\"M400.38,-869.98C381.15,-861.42 351.27,-848.11 329.19,-838.28\"/>\n<polygon fill=\"black\" stroke=\"black\" points=\"330.53,-835.04 319.97,-834.17 327.68,-841.44 330.53,-835.04\"/>\n</g>\n<!-- 2404784310848 -->\n<g id=\"node29\" class=\"node\">\n<title>2404784310848</title>\n<polygon fill=\"lightblue\" stroke=\"black\" points=\"467,-955 372,-955 372,-925 467,-925 467,-955\"/>\n<text text-anchor=\"middle\" x=\"419.5\" y=\"-943\" font-family=\"monospace\" font-size=\"10.00\">layer1.1.bias</text>\n<text text-anchor=\"middle\" x=\"419.5\" y=\"-932\" font-family=\"monospace\" font-size=\"10.00\"> (25)</text>\n</g>\n<!-- 2404784310848&#45;&gt;2404784393040 -->\n<g id=\"edge27\" class=\"edge\">\n<title>2404784310848&#45;&gt;2404784393040</title>\n<path fill=\"none\" stroke=\"black\" d=\"M419.5,-924.84C419.5,-917.21 419.5,-907.7 419.5,-899.45\"/>\n<polygon fill=\"black\" stroke=\"black\" points=\"423,-899.27 419.5,-889.27 416,-899.27 423,-899.27\"/>\n</g>\n<!-- 2404784393232 -->\n<g id=\"node30\" class=\"node\">\n<title>2404784393232</title>\n<polygon fill=\"lightgrey\" stroke=\"black\" points=\"515,-707.5 414,-707.5 414,-688.5 515,-688.5 515,-707.5\"/>\n<text text-anchor=\"middle\" x=\"464.5\" y=\"-695.5\" font-family=\"monospace\" font-size=\"10.00\">AccumulateGrad</text>\n</g>\n<!-- 2404784393232&#45;&gt;2404784393952 -->\n<g id=\"edge28\" class=\"edge\">\n<title>2404784393232&#45;&gt;2404784393952</title>\n<path fill=\"none\" stroke=\"black\" d=\"M472.47,-688.37C480.6,-679.55 493.43,-665.66 503.48,-654.77\"/>\n<polygon fill=\"black\" stroke=\"black\" points=\"506.29,-656.89 510.5,-647.17 501.14,-652.14 506.29,-656.89\"/>\n</g>\n<!-- 2404784311888 -->\n<g id=\"node31\" class=\"node\">\n<title>2404784311888</title>\n<polygon fill=\"lightblue\" stroke=\"black\" points=\"518,-779 411,-779 411,-749 518,-749 518,-779\"/>\n<text text-anchor=\"middle\" x=\"464.5\" y=\"-767\" font-family=\"monospace\" font-size=\"10.00\">layer3.0.weight</text>\n<text text-anchor=\"middle\" x=\"464.5\" y=\"-756\" font-family=\"monospace\" font-size=\"10.00\"> (50, 25, 3, 3)</text>\n</g>\n<!-- 2404784311888&#45;&gt;2404784393232 -->\n<g id=\"edge29\" class=\"edge\">\n<title>2404784311888&#45;&gt;2404784393232</title>\n<path fill=\"none\" stroke=\"black\" d=\"M464.5,-748.8C464.5,-739.7 464.5,-727.79 464.5,-717.9\"/>\n<polygon fill=\"black\" stroke=\"black\" points=\"468,-717.84 464.5,-707.84 461,-717.84 468,-717.84\"/>\n</g>\n<!-- 2404784392704 -->\n<g id=\"node32\" class=\"node\">\n<title>2404784392704</title>\n<polygon fill=\"lightgrey\" stroke=\"black\" points=\"634,-707.5 533,-707.5 533,-688.5 634,-688.5 634,-707.5\"/>\n<text text-anchor=\"middle\" x=\"583.5\" y=\"-695.5\" font-family=\"monospace\" font-size=\"10.00\">AccumulateGrad</text>\n</g>\n<!-- 2404784392704&#45;&gt;2404784393952 -->\n<g id=\"edge30\" class=\"edge\">\n<title>2404784392704&#45;&gt;2404784393952</title>\n<path fill=\"none\" stroke=\"black\" d=\"M573.91,-688.37C563.92,-679.38 548.07,-665.11 535.87,-654.14\"/>\n<polygon fill=\"black\" stroke=\"black\" points=\"537.9,-651.26 528.13,-647.17 533.22,-656.46 537.9,-651.26\"/>\n</g>\n<!-- 2404784309168 -->\n<g id=\"node33\" class=\"node\">\n<title>2404784309168</title>\n<polygon fill=\"lightblue\" stroke=\"black\" points=\"631,-779 536,-779 536,-749 631,-749 631,-779\"/>\n<text text-anchor=\"middle\" x=\"583.5\" y=\"-767\" font-family=\"monospace\" font-size=\"10.00\">layer3.0.bias</text>\n<text text-anchor=\"middle\" x=\"583.5\" y=\"-756\" font-family=\"monospace\" font-size=\"10.00\"> (50)</text>\n</g>\n<!-- 2404784309168&#45;&gt;2404784392704 -->\n<g id=\"edge31\" class=\"edge\">\n<title>2404784309168&#45;&gt;2404784392704</title>\n<path fill=\"none\" stroke=\"black\" d=\"M583.5,-748.8C583.5,-739.7 583.5,-727.79 583.5,-717.9\"/>\n<polygon fill=\"black\" stroke=\"black\" points=\"587,-717.84 583.5,-707.84 580,-717.84 587,-717.84\"/>\n</g>\n<!-- 2404784393664 -->\n<g id=\"node34\" class=\"node\">\n<title>2404784393664</title>\n<polygon fill=\"lightgrey\" stroke=\"black\" points=\"756,-647 655,-647 655,-628 756,-628 756,-647\"/>\n<text text-anchor=\"middle\" x=\"705.5\" y=\"-635\" font-family=\"monospace\" font-size=\"10.00\">AccumulateGrad</text>\n</g>\n<!-- 2404784393664&#45;&gt;2404784393568 -->\n<g id=\"edge32\" class=\"edge\">\n<title>2404784393664&#45;&gt;2404784393568</title>\n<path fill=\"none\" stroke=\"black\" d=\"M705.5,-627.75C705.5,-620.8 705.5,-610.85 705.5,-602.13\"/>\n<polygon fill=\"black\" stroke=\"black\" points=\"709,-602.09 705.5,-592.09 702,-602.09 709,-602.09\"/>\n</g>\n<!-- 2404784310688 -->\n<g id=\"node35\" class=\"node\">\n<title>2404784310688</title>\n<polygon fill=\"lightblue\" stroke=\"black\" points=\"759,-713 652,-713 652,-683 759,-683 759,-713\"/>\n<text text-anchor=\"middle\" x=\"705.5\" y=\"-701\" font-family=\"monospace\" font-size=\"10.00\">layer3.1.weight</text>\n<text text-anchor=\"middle\" x=\"705.5\" y=\"-690\" font-family=\"monospace\" font-size=\"10.00\"> (50)</text>\n</g>\n<!-- 2404784310688&#45;&gt;2404784393664 -->\n<g id=\"edge33\" class=\"edge\">\n<title>2404784310688&#45;&gt;2404784393664</title>\n<path fill=\"none\" stroke=\"black\" d=\"M705.5,-682.84C705.5,-675.21 705.5,-665.7 705.5,-657.45\"/>\n<polygon fill=\"black\" stroke=\"black\" points=\"709,-657.27 705.5,-647.27 702,-657.27 709,-657.27\"/>\n</g>\n<!-- 2404784393808 -->\n<g id=\"node36\" class=\"node\">\n<title>2404784393808</title>\n<polygon fill=\"lightgrey\" stroke=\"black\" points=\"875,-647 774,-647 774,-628 875,-628 875,-647\"/>\n<text text-anchor=\"middle\" x=\"824.5\" y=\"-635\" font-family=\"monospace\" font-size=\"10.00\">AccumulateGrad</text>\n</g>\n<!-- 2404784393808&#45;&gt;2404784393568 -->\n<g id=\"edge34\" class=\"edge\">\n<title>2404784393808&#45;&gt;2404784393568</title>\n<path fill=\"none\" stroke=\"black\" d=\"M805.38,-627.98C786.15,-619.42 756.27,-606.11 734.19,-596.28\"/>\n<polygon fill=\"black\" stroke=\"black\" points=\"735.53,-593.04 724.97,-592.17 732.68,-599.44 735.53,-593.04\"/>\n</g>\n<!-- 2404784310928 -->\n<g id=\"node37\" class=\"node\">\n<title>2404784310928</title>\n<polygon fill=\"lightblue\" stroke=\"black\" points=\"872,-713 777,-713 777,-683 872,-683 872,-713\"/>\n<text text-anchor=\"middle\" x=\"824.5\" y=\"-701\" font-family=\"monospace\" font-size=\"10.00\">layer3.1.bias</text>\n<text text-anchor=\"middle\" x=\"824.5\" y=\"-690\" font-family=\"monospace\" font-size=\"10.00\"> (50)</text>\n</g>\n<!-- 2404784310928&#45;&gt;2404784393808 -->\n<g id=\"edge35\" class=\"edge\">\n<title>2404784310928&#45;&gt;2404784393808</title>\n<path fill=\"none\" stroke=\"black\" d=\"M824.5,-682.84C824.5,-675.21 824.5,-665.7 824.5,-657.45\"/>\n<polygon fill=\"black\" stroke=\"black\" points=\"828,-657.27 824.5,-647.27 821,-657.27 828,-657.27\"/>\n</g>\n<!-- 2404784391840 -->\n<g id=\"node38\" class=\"node\">\n<title>2404784391840</title>\n<polygon fill=\"lightgrey\" stroke=\"black\" points=\"848,-399.5 771,-399.5 771,-380.5 848,-380.5 848,-399.5\"/>\n<text text-anchor=\"middle\" x=\"809.5\" y=\"-387.5\" font-family=\"monospace\" font-size=\"10.00\">TBackward0</text>\n</g>\n<!-- 2404784391840&#45;&gt;2403128880336 -->\n<g id=\"edge36\" class=\"edge\">\n<title>2404784391840&#45;&gt;2403128880336</title>\n<path fill=\"none\" stroke=\"black\" d=\"M798.31,-380.37C784.94,-370.06 762.35,-352.65 746.08,-340.09\"/>\n<polygon fill=\"black\" stroke=\"black\" points=\"747.84,-337.03 737.78,-333.7 743.56,-342.58 747.84,-337.03\"/>\n</g>\n<!-- 2404784393712 -->\n<g id=\"node39\" class=\"node\">\n<title>2404784393712</title>\n<polygon fill=\"lightgrey\" stroke=\"black\" points=\"920,-465.5 819,-465.5 819,-446.5 920,-446.5 920,-465.5\"/>\n<text text-anchor=\"middle\" x=\"869.5\" y=\"-453.5\" font-family=\"monospace\" font-size=\"10.00\">AccumulateGrad</text>\n</g>\n<!-- 2404784393712&#45;&gt;2404784391840 -->\n<g id=\"edge37\" class=\"edge\">\n<title>2404784393712&#45;&gt;2404784391840</title>\n<path fill=\"none\" stroke=\"black\" d=\"M861.41,-446.37C852.07,-436.4 836.49,-419.79 824.84,-407.36\"/>\n<polygon fill=\"black\" stroke=\"black\" points=\"827.24,-404.81 817.85,-399.91 822.13,-409.59 827.24,-404.81\"/>\n</g>\n<!-- 2404784310528 -->\n<g id=\"node40\" class=\"node\">\n<title>2404784310528</title>\n<polygon fill=\"lightblue\" stroke=\"black\" points=\"917,-537 822,-537 822,-507 917,-507 917,-537\"/>\n<text text-anchor=\"middle\" x=\"869.5\" y=\"-525\" font-family=\"monospace\" font-size=\"10.00\">fc.0.weight</text>\n<text text-anchor=\"middle\" x=\"869.5\" y=\"-514\" font-family=\"monospace\" font-size=\"10.00\"> (1024, 1250)</text>\n</g>\n<!-- 2404784310528&#45;&gt;2404784393712 -->\n<g id=\"edge38\" class=\"edge\">\n<title>2404784310528&#45;&gt;2404784393712</title>\n<path fill=\"none\" stroke=\"black\" d=\"M869.5,-506.8C869.5,-497.7 869.5,-485.79 869.5,-475.9\"/>\n<polygon fill=\"black\" stroke=\"black\" points=\"873,-475.84 869.5,-465.84 866,-475.84 873,-475.84\"/>\n</g>\n<!-- 2403128878368 -->\n<g id=\"node41\" class=\"node\">\n<title>2403128878368</title>\n<polygon fill=\"lightgrey\" stroke=\"black\" points=\"875,-267.5 798,-267.5 798,-248.5 875,-248.5 875,-267.5\"/>\n<text text-anchor=\"middle\" x=\"836.5\" y=\"-255.5\" font-family=\"monospace\" font-size=\"10.00\">TBackward0</text>\n</g>\n<!-- 2403128878368&#45;&gt;2403128878272 -->\n<g id=\"edge39\" class=\"edge\">\n<title>2403128878368&#45;&gt;2403128878272</title>\n<path fill=\"none\" stroke=\"black\" d=\"M825.31,-248.37C811.94,-238.06 789.35,-220.65 773.08,-208.09\"/>\n<polygon fill=\"black\" stroke=\"black\" points=\"774.84,-205.03 764.78,-201.7 770.56,-210.58 774.84,-205.03\"/>\n</g>\n<!-- 2403128878704 -->\n<g id=\"node42\" class=\"node\">\n<title>2403128878704</title>\n<polygon fill=\"lightgrey\" stroke=\"black\" points=\"939,-333.5 838,-333.5 838,-314.5 939,-314.5 939,-333.5\"/>\n<text text-anchor=\"middle\" x=\"888.5\" y=\"-321.5\" font-family=\"monospace\" font-size=\"10.00\">AccumulateGrad</text>\n</g>\n<!-- 2403128878704&#45;&gt;2403128878368 -->\n<g id=\"edge40\" class=\"edge\">\n<title>2403128878704&#45;&gt;2403128878368</title>\n<path fill=\"none\" stroke=\"black\" d=\"M881.49,-314.37C873.47,-304.5 860.15,-288.11 850.08,-275.72\"/>\n<polygon fill=\"black\" stroke=\"black\" points=\"852.76,-273.46 843.74,-267.91 847.33,-277.87 852.76,-273.46\"/>\n</g>\n<!-- 2404775846432 -->\n<g id=\"node43\" class=\"node\">\n<title>2404775846432</title>\n<polygon fill=\"lightblue\" stroke=\"black\" points=\"955,-405 866,-405 866,-375 955,-375 955,-405\"/>\n<text text-anchor=\"middle\" x=\"910.5\" y=\"-393\" font-family=\"monospace\" font-size=\"10.00\">fc.2.weight</text>\n<text text-anchor=\"middle\" x=\"910.5\" y=\"-382\" font-family=\"monospace\" font-size=\"10.00\"> (128, 1024)</text>\n</g>\n<!-- 2404775846432&#45;&gt;2403128878704 -->\n<g id=\"edge41\" class=\"edge\">\n<title>2404775846432&#45;&gt;2403128878704</title>\n<path fill=\"none\" stroke=\"black\" d=\"M905.62,-374.8C902.46,-365.6 898.31,-353.53 894.89,-343.58\"/>\n<polygon fill=\"black\" stroke=\"black\" points=\"898.1,-342.16 891.54,-333.84 891.48,-344.44 898.1,-342.16\"/>\n</g>\n<!-- 2403128877648 -->\n<g id=\"node44\" class=\"node\">\n<title>2403128877648</title>\n<polygon fill=\"lightgrey\" stroke=\"black\" points=\"927,-141 850,-141 850,-122 927,-122 927,-141\"/>\n<text text-anchor=\"middle\" x=\"888.5\" y=\"-129\" font-family=\"monospace\" font-size=\"10.00\">TBackward0</text>\n</g>\n<!-- 2403128877648&#45;&gt;2403128879520 -->\n<g id=\"edge42\" class=\"edge\">\n<title>2403128877648&#45;&gt;2403128879520</title>\n<path fill=\"none\" stroke=\"black\" d=\"M867.77,-121.98C846.74,-113.34 813.95,-99.87 789.96,-90.02\"/>\n<polygon fill=\"black\" stroke=\"black\" points=\"791.18,-86.73 780.6,-86.17 788.52,-93.21 791.18,-86.73\"/>\n</g>\n<!-- 2403128879184 -->\n<g id=\"node45\" class=\"node\">\n<title>2403128879184</title>\n<polygon fill=\"lightgrey\" stroke=\"black\" points=\"964,-201.5 863,-201.5 863,-182.5 964,-182.5 964,-201.5\"/>\n<text text-anchor=\"middle\" x=\"913.5\" y=\"-189.5\" font-family=\"monospace\" font-size=\"10.00\">AccumulateGrad</text>\n</g>\n<!-- 2403128879184&#45;&gt;2403128877648 -->\n<g id=\"edge43\" class=\"edge\">\n<title>2403128879184&#45;&gt;2403128877648</title>\n<path fill=\"none\" stroke=\"black\" d=\"M909.81,-182.37C906.23,-173.99 900.68,-161.01 896.15,-150.39\"/>\n<polygon fill=\"black\" stroke=\"black\" points=\"899.35,-148.99 892.2,-141.17 892.92,-151.74 899.35,-148.99\"/>\n</g>\n<!-- 2404775849312 -->\n<g id=\"node46\" class=\"node\">\n<title>2404775849312</title>\n<polygon fill=\"lightblue\" stroke=\"black\" points=\"976,-273 893,-273 893,-243 976,-243 976,-273\"/>\n<text text-anchor=\"middle\" x=\"934.5\" y=\"-261\" font-family=\"monospace\" font-size=\"10.00\">fc.4.weight</text>\n<text text-anchor=\"middle\" x=\"934.5\" y=\"-250\" font-family=\"monospace\" font-size=\"10.00\"> (10, 128)</text>\n</g>\n<!-- 2404775849312&#45;&gt;2403128879184 -->\n<g id=\"edge44\" class=\"edge\">\n<title>2404775849312&#45;&gt;2403128879184</title>\n<path fill=\"none\" stroke=\"black\" d=\"M929.84,-242.8C926.82,-233.6 922.86,-221.53 919.6,-211.58\"/>\n<polygon fill=\"black\" stroke=\"black\" points=\"922.85,-210.25 916.4,-201.84 916.19,-212.44 922.85,-210.25\"/>\n</g>\n</g>\n</svg>\n",
      "text/plain": "<graphviz.graphs.Digraph at 0x22f85a4ae20>"
     },
     "execution_count": 13,
     "metadata": {},
     "output_type": "execute_result"
    }
   ],
   "source": [
    "net=CNN()\n",
    "a=torch.randn(1,1,28,28)\n",
    "make_dot(net(a),params=dict(net.named_parameters()))"
   ],
   "metadata": {
    "collapsed": false,
    "pycharm": {
     "name": "#%%\n"
    }
   }
  }
 ],
 "metadata": {
  "kernelspec": {
   "display_name": "Python 3",
   "language": "python",
   "name": "python3"
  },
  "language_info": {
   "codemirror_mode": {
    "name": "ipython",
    "version": 2
   },
   "file_extension": ".py",
   "mimetype": "text/x-python",
   "name": "python",
   "nbconvert_exporter": "python",
   "pygments_lexer": "ipython2",
   "version": "2.7.6"
  }
 },
 "nbformat": 4,
 "nbformat_minor": 0
}