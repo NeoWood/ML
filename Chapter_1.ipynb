{
 "cells": [
  {
   "cell_type": "markdown",
   "metadata": {
    "collapsed": true,
    "pycharm": {
     "name": "#%% md\n"
    }
   },
   "source": [
    "# KNN实现手写数字识别\n",
    "---\n",
    "author: Neo\n",
    "date: 2022年1月28日\n",
    "---"
   ]
  },
  {
   "cell_type": "code",
   "execution_count": 91,
   "outputs": [],
   "source": [
    "import numpy as np\n",
    "import pandas as pd\n",
    "from os import listdir\n",
    "import matplotlib as plot"
   ],
   "metadata": {
    "collapsed": false,
    "pycharm": {
     "name": "#%%\n"
    }
   }
  },
  {
   "cell_type": "code",
   "execution_count": 93,
   "outputs": [],
   "source": [
    "def img2vector(filename):\n",
    "    vector = np.zeros((1, 1024))\n",
    "    fn = open(filename)\n",
    "    for i in range(32):\n",
    "        row = fn.readline()\n",
    "        for j in range(32):\n",
    "            vector[0, 32 * i + j] = int(row[j])\n",
    "    return vector"
   ],
   "metadata": {
    "collapsed": false,
    "pycharm": {
     "name": "#%%\n"
    }
   }
  },
  {
   "cell_type": "code",
   "execution_count": 94,
   "outputs": [],
   "source": [
    "def load_traindata():\n",
    "    trainfilelist = listdir('./data/knn/trainingDigits')\n",
    "    n = len(trainfilelist)\n",
    "    trainmat = np.zeros((n, 1025))\n",
    "    for i in range(n):\n",
    "        filename = trainfilelist[i]\n",
    "        label = int(filename.split(\"_\")[0])\n",
    "        trainmat[i, 0:1024] = img2vector('data/knn/trainingDigits/%s' % filename)\n",
    "        trainmat[i, 1024] = label\n",
    "    return trainmat"
   ],
   "metadata": {
    "collapsed": false,
    "pycharm": {
     "name": "#%%\n"
    }
   }
  },
  {
   "cell_type": "code",
   "execution_count": 98,
   "outputs": [],
   "source": [
    "def load_testdata():\n",
    "    testfilelist = listdir('./data/knn/testDigits')\n",
    "    n = len(testfilelist)\n",
    "    testmat = np.zeros((n, 1025))\n",
    "    for i in range(n):\n",
    "        filename = testfilelist[i]\n",
    "        label = int(filename.split(\"_\")[0])\n",
    "        testmat[i, 0:1024] = img2vector('data/knn/testDigits/%s' % filename)\n",
    "        testmat[i, 1024] = label\n",
    "    return testmat"
   ],
   "metadata": {
    "collapsed": false,
    "pycharm": {
     "name": "#%%\n"
    }
   }
  },
  {
   "cell_type": "code",
   "execution_count": 109,
   "outputs": [],
   "source": [
    "def class_eu():\n",
    "    train = load_traindata()\n",
    "    test = load_testdata()\n",
    "    labels = []\n",
    "    testlabels = test[:, 1024]\n",
    "    n = len(train)\n",
    "    m = len(test)\n",
    "    arr = np.zeros((m, n))\n",
    "    for i in range(m):\n",
    "        s = np.array(test[i, :])\n",
    "        for j in range(n):\n",
    "            e = np.array(train[j, :])\n",
    "            op = np.linalg.norm(s[0:1024] - e[0:1024])\n",
    "            arr[i, j] = op\n",
    "        ar = arr[i, :].argsort()[:20]\n",
    "        l = train[ar, 1024].tolist()\n",
    "        label = max(l, key=l.count)\n",
    "        labels.append(label)\n",
    "    accuracy = len([labels[i] for i in range(m) if labels[i] == testlabels[i]]) / m\n",
    "    return accuracy"
   ],
   "metadata": {
    "collapsed": false,
    "pycharm": {
     "name": "#%%\n"
    }
   }
  },
  {
   "cell_type": "code",
   "execution_count": 110,
   "outputs": [
    {
     "data": {
      "text/plain": "0.9725158562367865"
     },
     "execution_count": 110,
     "metadata": {},
     "output_type": "execute_result"
    }
   ],
   "source": [
    "if __name__ == '__main__':\n",
    "    class_eu()"
   ],
   "metadata": {
    "collapsed": false,
    "pycharm": {
     "name": "#%%\n"
    }
   }
  }
 ],
 "metadata": {
  "kernelspec": {
   "display_name": "Python 3",
   "language": "python",
   "name": "python3"
  },
  "language_info": {
   "codemirror_mode": {
    "name": "ipython",
    "version": 2
   },
   "file_extension": ".py",
   "mimetype": "text/x-python",
   "name": "python",
   "nbconvert_exporter": "python",
   "pygments_lexer": "ipython2",
   "version": "2.7.6"
  }
 },
 "nbformat": 4,
 "nbformat_minor": 0
}